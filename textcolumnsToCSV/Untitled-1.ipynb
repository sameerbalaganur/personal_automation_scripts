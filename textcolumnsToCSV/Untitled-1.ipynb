{
 "cells": [
  {
   "cell_type": "code",
   "execution_count": 2,
   "metadata": {},
   "outputs": [
    {
     "name": "stdout",
     "output_type": "stream",
     "text": [
      "['NAMESPACE', ' NAME', ' SECRETS', ' AGE']\n"
     ]
    }
   ],
   "source": [
    "import csv\n",
    "\n",
    "file = open(r'C:\\Users\\samee\\Documents\\DevOps\\Kubernetes\\finals\\outputSA.txt')\n",
    "type(file)\n",
    "csvreader = csv.reader(file)\n",
    "header = []\n",
    "header = next(csvreader)\n",
    "header\n",
    "type(header)\n",
    "\n",
    "convert_to_string = ''.join(header)\n",
    "\n",
    "# print(convert_to_string)\n",
    "\n",
    "header_row = ', '.join(convert_to_string.split()).split(\",\")\n",
    "print(header_row)\n",
    "\n",
    "\n",
    "rows = []\n",
    "for row in csvreader:\n",
    "    \n",
    "    convert_row_to_string = ''.join(row[0])\n",
    "    # print(convert_row_to_string)\n",
    "    add_comma_to_rows = ', '.join(convert_row_to_string.split()).split(\",\")\n",
    "    # print(add_comma_to_rows)\n",
    "    rows.append(add_comma_to_rows)\n",
    "# print(rows)\n",
    "\n",
    "with open('outputCSV.csv', 'w') as csvfile:\n",
    "    writer = csv.writer(csvfile)\n",
    "    writer.writerow(header_row)\n",
    "    for more_row_data in rows:\n",
    "        writer.writerow(more_row_data)\n",
    "    \n",
    "\n"
   ]
  },
  {
   "cell_type": "code",
   "execution_count": null,
   "metadata": {},
   "outputs": [],
   "source": []
  }
 ],
 "metadata": {
  "kernelspec": {
   "display_name": "Python 3",
   "language": "python",
   "name": "python3"
  },
  "language_info": {
   "codemirror_mode": {
    "name": "ipython",
    "version": 3
   },
   "file_extension": ".py",
   "mimetype": "text/x-python",
   "name": "python",
   "nbconvert_exporter": "python",
   "pygments_lexer": "ipython3",
   "version": "3.10.5"
  }
 },
 "nbformat": 4,
 "nbformat_minor": 2
}
